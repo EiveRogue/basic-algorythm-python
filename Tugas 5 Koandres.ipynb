{
 "cells": [
  {
   "cell_type": "code",
   "execution_count": 1,
   "metadata": {},
   "outputs": [
    {
     "name": "stdout",
     "output_type": "stream",
     "text": [
      "I like programming\n",
      "Because I proud to make something new\n"
     ]
    }
   ],
   "source": [
    "#nama Koandres\n",
    "\n",
    "def function_1(): #fungsi 1\n",
    "    print(\"Because I proud to make something new\")\n",
    "def function_2(): #fungsi 2\n",
    "    print(\"I like programming\")\n",
    "#pemanggilan fungsi 2\n",
    "function_2()\n",
    "#pemangglan fungsi 1\n",
    "function_1()"
   ]
  },
  {
   "cell_type": "code",
   "execution_count": 2,
   "metadata": {},
   "outputs": [
    {
     "name": "stdout",
     "output_type": "stream",
     "text": [
      "nama saya adalah Koandres\n",
      "perkenalkan nama saya adalah Koandres dari Tegal\n",
      "Luas persegi panjang adalah 24\n"
     ]
    }
   ],
   "source": [
    "#nama Koandres\n",
    "\n",
    "def fungsi_1():\n",
    "    nama=input(\"nama saya adalah \")\n",
    "    print(\"perkenalkan nama saya adalah\",nama,\"dari Tegal\")\n",
    "def Luas_Persegi_Panjang(panjang,lebar):\n",
    "    luas=(panjang*lebar)\n",
    "    print(\"Luas persegi panjang adalah\",luas)\n",
    "fungsi_1()\n",
    "Luas_Persegi_Panjang(4,6)"
   ]
  },
  {
   "cell_type": "code",
   "execution_count": 6,
   "metadata": {},
   "outputs": [
    {
     "name": "stdout",
     "output_type": "stream",
     "text": [
      "masukkan nilai panjang dalam satuan cm 20\n",
      "masukkan nilai lebar dalam satuan cm 10\n",
      "Luas Persegi Panjang 200 cm\n",
      "masukkan nilai tinggi dalam satuan cm 5\n",
      "masukkan nilai panjang dalam satuan cm 15\n",
      "masukkan nilai lebar dalam satuan cm 10\n",
      "Volume Balok 750 cm\n"
     ]
    }
   ],
   "source": [
    "#nama Koandres\n",
    "\n",
    "def luas_persegipanjang():\n",
    "    p=int(input(\"masukkan nilai panjang dalam satuan cm \"))\n",
    "    l=int(input(\"masukkan nilai lebar dalam satuan cm \"))\n",
    "    luas=p*l\n",
    "    return luas\n",
    "\n",
    "def volume_balok():\n",
    "    t=int(input(\"masukkan nilai tinggi dalam satuan cm \"))\n",
    "    volume=luas_persegipanjang()*t\n",
    "    return volume\n",
    "\n",
    "print(\"Luas Persegi Panjang\",luas_persegipanjang(),\"cm\")\n",
    "print(\"Volume Balok\",volume_balok(),\"cm\")"
   ]
  },
  {
   "cell_type": "code",
   "execution_count": 5,
   "metadata": {},
   "outputs": [
    {
     "name": "stdout",
     "output_type": "stream",
     "text": [
      "Masukkan Angka Pertama 3\n",
      "Masukkan Angka Kedua 4\n",
      "3 sama dengan 4 adalah False\n",
      "Masukkan Angka Pertama 2\n",
      "Masukkan Angka Kedua 1\n",
      "2 lebih dari 1 adalah True\n"
     ]
    }
   ],
   "source": [
    "#nama Koandres\n",
    "\n",
    "def fungsi_operator1():\n",
    "    angka_1=int(input(\"Masukkan Angka Pertama \"))\n",
    "    angka_2=int(input(\"Masukkan Angka Kedua \"))\n",
    "    operator1=angka_1==angka_2\n",
    "    print(angka_1,\"sama dengan\",angka_2,\"adalah\",operator1)\n",
    "def fungsi_operator2():\n",
    "    angka_1=int(input(\"Masukkan Angka Pertama \"))\n",
    "    angka_2=int(input(\"Masukkan Angka Kedua \"))\n",
    "    operator2=angka_1>=angka_2\n",
    "    print(angka_1,\"lebih dari\",angka_2,\"adalah\",operator2)\n",
    "fungsi_operator1()\n",
    "fungsi_operator2()"
   ]
  },
  {
   "cell_type": "code",
   "execution_count": null,
   "metadata": {},
   "outputs": [],
   "source": []
  }
 ],
 "metadata": {
  "kernelspec": {
   "display_name": "Python 3",
   "language": "python",
   "name": "python3"
  },
  "language_info": {
   "codemirror_mode": {
    "name": "ipython",
    "version": 3
   },
   "file_extension": ".py",
   "mimetype": "text/x-python",
   "name": "python",
   "nbconvert_exporter": "python",
   "pygments_lexer": "ipython3",
   "version": "3.8.3"
  }
 },
 "nbformat": 4,
 "nbformat_minor": 4
}
