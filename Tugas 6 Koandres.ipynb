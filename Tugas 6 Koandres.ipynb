{
 "cells": [
  {
   "cell_type": "code",
   "execution_count": 8,
   "metadata": {},
   "outputs": [
    {
     "name": "stdout",
     "output_type": "stream",
     "text": [
      "Masukkan Nilai Anda 65\n",
      "Anda Remidi\n"
     ]
    }
   ],
   "source": [
    "#nama Koandres\n",
    "\n",
    "Nilai=int(input(\"Masukkan Nilai Anda \"))\n",
    "if Nilai <70:\n",
    "    print(\"Anda Remidi\")"
   ]
  },
  {
   "cell_type": "code",
   "execution_count": 7,
   "metadata": {},
   "outputs": [
    {
     "name": "stdout",
     "output_type": "stream",
     "text": [
      "masukkan nilai rad 10\n",
      "Nilai Luas Lingkaran adalah  314.0\n",
      "Lingkaran ini Kecil\n"
     ]
    }
   ],
   "source": [
    "#nama Koandres\n",
    "\n",
    "rad=int(input(\"masukkan nilai rad \"))\n",
    "L_Lingkaran= 3.14*rad*rad\n",
    "print(\"Nilai Luas Lingkaran adalah \",L_Lingkaran)\n",
    "if L_Lingkaran > 314:\n",
    "    print(\"Lingkaran ini Besar\")\n",
    "else:\n",
    "    print(\"Lingkaran ini Kecil\")"
   ]
  },
  {
   "cell_type": "code",
   "execution_count": 12,
   "metadata": {},
   "outputs": [
    {
     "name": "stdout",
     "output_type": "stream",
     "text": [
      "Masukkan nomor program yang dipilih 2\n",
      "masukkan nilai sisi = 7\n",
      "Volume Kubus =  343\n"
     ]
    }
   ],
   "source": [
    "#nama Koandres\n",
    "\n",
    "def v_balok():\n",
    "    p=int(input(\"masukkan nilai panjang = \"))\n",
    "    l=int(input(\"masukkan nilai lebar = \"))\n",
    "    t=int(input(\"masukkan nilai tinggi = \"))\n",
    "    volume=p*l*t\n",
    "    return volume\n",
    "def v_kubus():\n",
    "    s=int(input(\"masukkan nilai sisi = \"))\n",
    "    volume=s*s*s\n",
    "    return volume\n",
    "\n",
    "program=int(input(\"Masukkan nomor program yang dipilih \"))\n",
    "if program == 1:\n",
    "    print(\"Volume Balok = \",v_balok())\n",
    "elif program == 2:\n",
    "    print(\"Volume Kubus = \",v_kubus())\n",
    "else:\n",
    "    print(\"program tidak tersedia\")"
   ]
  },
  {
   "cell_type": "code",
   "execution_count": null,
   "metadata": {},
   "outputs": [],
   "source": []
  }
 ],
 "metadata": {
  "kernelspec": {
   "display_name": "Python 3",
   "language": "python",
   "name": "python3"
  },
  "language_info": {
   "codemirror_mode": {
    "name": "ipython",
    "version": 3
   },
   "file_extension": ".py",
   "mimetype": "text/x-python",
   "name": "python",
   "nbconvert_exporter": "python",
   "pygments_lexer": "ipython3",
   "version": "3.8.3"
  }
 },
 "nbformat": 4,
 "nbformat_minor": 4
}
