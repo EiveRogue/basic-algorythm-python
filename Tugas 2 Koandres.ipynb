{
 "cells": [
  {
   "cell_type": "code",
   "execution_count": 4,
   "metadata": {},
   "outputs": [
    {
     "name": "stdout",
     "output_type": "stream",
     "text": [
      "Saya suka programming\n",
      "Saya suka programming\n",
      "Saya suka programming\n",
      "Saya suka programming\n",
      "Saya suka programming\n"
     ]
    }
   ],
   "source": [
    "#Nama Koandres\n",
    "\n",
    "print (\"Saya suka programming\")\n",
    "print (\"Saya suka programming\")\n",
    "print (\"Saya suka programming\")\n",
    "print (\"Saya suka programming\")\n",
    "print (\"Saya suka programming\")"
   ]
  },
  {
   "cell_type": "code",
   "execution_count": 11,
   "metadata": {},
   "outputs": [
    {
     "name": "stdout",
     "output_type": "stream",
     "text": [
      "615.44\n"
     ]
    }
   ],
   "source": [
    "#Nama Koandres\n",
    "\n",
    "r=14\n",
    "luas = 3.14*r*r\n",
    "print(luas)"
   ]
  },
  {
   "cell_type": "code",
   "execution_count": 12,
   "metadata": {},
   "outputs": [
    {
     "name": "stdout",
     "output_type": "stream",
     "text": [
      "Saya Koandres, saya membuat program menghitung balok\n",
      "panjang = 5\n",
      "lebar = 7\n",
      "tinggi = 10\n",
      "sehingga volume balok = 350\n"
     ]
    }
   ],
   "source": [
    "#Nama Koandres\n",
    "\n",
    "print(\"Saya Koandres, saya membuat program menghitung balok\")\n",
    "p=5\n",
    "l=7\n",
    "t=10\n",
    "v=p*l*t\n",
    "print(\"panjang =\", p)\n",
    "print(\"lebar =\", l)\n",
    "print(\"tinggi =\", t)\n",
    "print(\"sehingga volume balok =\", v)"
   ]
  },
  {
   "cell_type": "code",
   "execution_count": null,
   "metadata": {},
   "outputs": [],
   "source": []
  }
 ],
 "metadata": {
  "kernelspec": {
   "display_name": "Python 3",
   "language": "python",
   "name": "python3"
  },
  "language_info": {
   "codemirror_mode": {
    "name": "ipython",
    "version": 3
   },
   "file_extension": ".py",
   "mimetype": "text/x-python",
   "name": "python",
   "nbconvert_exporter": "python",
   "pygments_lexer": "ipython3",
   "version": "3.8.3"
  }
 },
 "nbformat": 4,
 "nbformat_minor": 4
}
